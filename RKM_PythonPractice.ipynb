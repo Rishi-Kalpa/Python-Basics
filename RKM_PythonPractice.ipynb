{
 "cells": [
  {
   "cell_type": "markdown",
   "id": "21caa524-ccb5-490e-bc9b-556b3d9d1b56",
   "metadata": {},
   "source": [
    "#### Function * Keyword"
   ]
  },
  {
   "cell_type": "markdown",
   "id": "cd897199-9f3c-46b1-9440-f1751dec3abf",
   "metadata": {},
   "source": [
    "#### Print() --> Predefined function for getting O/P over the console / screen "
   ]
  },
  {
   "cell_type": "code",
   "execution_count": 1,
   "id": "11919bf5-7ba1-4de4-b3c4-f623aced8cc3",
   "metadata": {},
   "outputs": [
    {
     "name": "stdout",
     "output_type": "stream",
     "text": [
      "30\n"
     ]
    }
   ],
   "source": [
    "a=10\n",
    "b=20\n",
    "c = a+b\n",
    "print(c)"
   ]
  },
  {
   "cell_type": "code",
   "execution_count": 2,
   "id": "9343480d-526c-4a2d-a2dc-f9e2eb703f36",
   "metadata": {},
   "outputs": [],
   "source": [
    "def practice():\n",
    "    a = 10\n",
    "    b = 20\n",
    "    c = a + b\n",
    "    print(c)"
   ]
  },
  {
   "cell_type": "code",
   "execution_count": 4,
   "id": "61d33993-5d9a-4424-965b-fdbbfadfd015",
   "metadata": {},
   "outputs": [
    {
     "name": "stdout",
     "output_type": "stream",
     "text": [
      "30\n"
     ]
    }
   ],
   "source": [
    "practice()"
   ]
  },
  {
   "cell_type": "code",
   "execution_count": 11,
   "id": "87ebd240-7ec0-4147-b076-19053091a47d",
   "metadata": {},
   "outputs": [],
   "source": [
    "def rkm():\n",
    "    u = 50\n",
    "    s = 50\n",
    "    rk = u + s\n",
    "    print(rk)"
   ]
  },
  {
   "cell_type": "code",
   "execution_count": 12,
   "id": "8298b3bf-1a44-400b-bd42-cd9678134769",
   "metadata": {},
   "outputs": [
    {
     "name": "stdout",
     "output_type": "stream",
     "text": [
      "100\n"
     ]
    }
   ],
   "source": [
    "rkm()"
   ]
  },
  {
   "cell_type": "code",
   "execution_count": 13,
   "id": "5da06131-e2f7-46f2-9230-e245afba3a47",
   "metadata": {},
   "outputs": [
    {
     "name": "stdout",
     "output_type": "stream",
     "text": [
      "300\n"
     ]
    }
   ],
   "source": [
    "def test():\n",
    "    u = 150\n",
    "    s = 150\n",
    "    rk = u + s\n",
    "    print(rk)\n",
    "    \n",
    "test()"
   ]
  },
  {
   "cell_type": "markdown",
   "id": "16768ccb-9831-47cf-b15e-8bae3bfa9022",
   "metadata": {},
   "source": [
    "#### I/O Operations"
   ]
  },
  {
   "cell_type": "code",
   "execution_count": 14,
   "id": "f6031e24-360a-4bf7-99fc-5ba95048664e",
   "metadata": {},
   "outputs": [],
   "source": [
    "a = 10"
   ]
  },
  {
   "cell_type": "code",
   "execution_count": 15,
   "id": "f4ee7578-8912-4d9f-a3fb-257f67f8999f",
   "metadata": {},
   "outputs": [
    {
     "name": "stdout",
     "output_type": "stream",
     "text": [
      "10\n"
     ]
    }
   ],
   "source": [
    "print(a)"
   ]
  },
  {
   "cell_type": "code",
   "execution_count": 16,
   "id": "436434a8-53eb-4bd4-b519-4c59a409cdc8",
   "metadata": {},
   "outputs": [],
   "source": [
    "b = 20"
   ]
  },
  {
   "cell_type": "code",
   "execution_count": 17,
   "id": "ec297ec2-f492-4b0c-8402-583e59342789",
   "metadata": {},
   "outputs": [
    {
     "name": "stdout",
     "output_type": "stream",
     "text": [
      "20\n"
     ]
    }
   ],
   "source": [
    "print(b)"
   ]
  },
  {
   "cell_type": "code",
   "execution_count": 18,
   "id": "bc3c4841-1292-487d-8289-276bd23113b5",
   "metadata": {},
   "outputs": [
    {
     "name": "stdout",
     "output_type": "stream",
     "text": [
      "10\n",
      "20\n"
     ]
    }
   ],
   "source": [
    "print(a)\n",
    "print(b)"
   ]
  },
  {
   "cell_type": "code",
   "execution_count": 19,
   "id": "e4000e3b-2df4-4d39-b33f-f965bdc15c6c",
   "metadata": {},
   "outputs": [
    {
     "name": "stdout",
     "output_type": "stream",
     "text": [
      "This is my first number: 10\n"
     ]
    }
   ],
   "source": [
    "print(\"This is my first number:\", a)"
   ]
  },
  {
   "cell_type": "code",
   "execution_count": 20,
   "id": "9e2a497e-1b27-4e8c-9279-0e98fda3a314",
   "metadata": {},
   "outputs": [
    {
     "name": "stdout",
     "output_type": "stream",
     "text": [
      "This is my second number: 20\n"
     ]
    }
   ],
   "source": [
    "print(\"This is my second number:\", b)"
   ]
  },
  {
   "cell_type": "markdown",
   "id": "40311293-edae-4bb4-b27c-b2f838466421",
   "metadata": {},
   "source": [
    "#### Usage and non usage of \"\\n\" argument, '\\n' denotes new line"
   ]
  },
  {
   "cell_type": "code",
   "execution_count": 21,
   "id": "82b29cac-6f4f-492a-a375-aeb21baa4118",
   "metadata": {},
   "outputs": [
    {
     "name": "stdout",
     "output_type": "stream",
     "text": [
      "1020\n"
     ]
    }
   ],
   "source": [
    "print(a, end=\"\")\n",
    "print(b)"
   ]
  },
  {
   "cell_type": "code",
   "execution_count": 22,
   "id": "9d9050c9-58af-4151-b312-bad95f8a3b24",
   "metadata": {},
   "outputs": [
    {
     "name": "stdout",
     "output_type": "stream",
     "text": [
      "10\n",
      "20\n"
     ]
    }
   ],
   "source": [
    "print(a, end='\\n')\n",
    "print(b)"
   ]
  },
  {
   "cell_type": "code",
   "execution_count": 23,
   "id": "7c4164e9-a967-4a19-add6-634b65c9dd8d",
   "metadata": {},
   "outputs": [],
   "source": [
    "c = 30"
   ]
  },
  {
   "cell_type": "code",
   "execution_count": 24,
   "id": "3b143c65-873e-473e-a9d2-e5aace5b603d",
   "metadata": {},
   "outputs": [
    {
     "name": "stdout",
     "output_type": "stream",
     "text": [
      "1020\n",
      "30\n"
     ]
    }
   ],
   "source": [
    "print(a, end='')\n",
    "print(b)\n",
    "print(c)"
   ]
  },
  {
   "cell_type": "code",
   "execution_count": 25,
   "id": "01390941-0212-4b8f-a81d-90ee2f7656a0",
   "metadata": {},
   "outputs": [
    {
     "name": "stdout",
     "output_type": "stream",
     "text": [
      "10\n",
      "20\n",
      "30\n"
     ]
    }
   ],
   "source": [
    "print(a, end='\\n')\n",
    "print(b)\n",
    "print(c)"
   ]
  },
  {
   "cell_type": "code",
   "execution_count": 27,
   "id": "21ec2cf3-e57b-4379-ab94-7544616b86f1",
   "metadata": {},
   "outputs": [
    {
     "name": "stdout",
     "output_type": "stream",
     "text": [
      "10\n",
      "2030\n"
     ]
    }
   ],
   "source": [
    "print(a, end='\\n')\n",
    "print(b, end='')\n",
    "print(c)"
   ]
  },
  {
   "cell_type": "code",
   "execution_count": 28,
   "id": "0d140337-c9fe-4c86-a951-b4d7bd96194a",
   "metadata": {},
   "outputs": [
    {
     "name": "stdout",
     "output_type": "stream",
     "text": [
      "102030\n"
     ]
    }
   ],
   "source": [
    "print(a, end='')\n",
    "print(b, end='')\n",
    "print(c)"
   ]
  },
  {
   "cell_type": "markdown",
   "id": "e372a3c0-427e-49be-bbb2-1505e6aa0a62",
   "metadata": {},
   "source": [
    "#### \"\\t\" --> tab , \"\\b\" --> backspace character"
   ]
  },
  {
   "cell_type": "code",
   "execution_count": 29,
   "id": "e9b2ec90-9ed3-4fdb-bbd4-10d51fbd302a",
   "metadata": {},
   "outputs": [
    {
     "name": "stdout",
     "output_type": "stream",
     "text": [
      "10\t2030\n"
     ]
    }
   ],
   "source": [
    "print(a, end='\\t')\n",
    "print(b, end='')\n",
    "print(c)"
   ]
  },
  {
   "cell_type": "code",
   "execution_count": 33,
   "id": "395a148c-6407-4e28-9c94-b27fe74cf22e",
   "metadata": {},
   "outputs": [
    {
     "name": "stdout",
     "output_type": "stream",
     "text": [
      "12030\n"
     ]
    }
   ],
   "source": [
    "print(a, end='\\b')\n",
    "print(b, end='')\n",
    "print(c)"
   ]
  },
  {
   "cell_type": "code",
   "execution_count": 34,
   "id": "43ff4a46-cd88-40e6-b82a-66157339792d",
   "metadata": {},
   "outputs": [
    {
     "name": "stdout",
     "output_type": "stream",
     "text": [
      "120\t30\n"
     ]
    }
   ],
   "source": [
    "print(a, end='\\b')\n",
    "print(b, end='\\t')\n",
    "print(c)"
   ]
  },
  {
   "cell_type": "markdown",
   "id": "d77f9327-9053-46b7-add7-64a8dbc7efa2",
   "metadata": {},
   "source": [
    "### Sep --> Seperator - In n number of argument, we use seperator and denote it by white space\n",
    "### end --> removing a new line"
   ]
  },
  {
   "cell_type": "code",
   "execution_count": 38,
   "id": "092480f1-2bbf-4a50-9374-d9dc0638b4ed",
   "metadata": {},
   "outputs": [
    {
     "name": "stdout",
     "output_type": "stream",
     "text": [
      "10 20 30\n"
     ]
    }
   ],
   "source": [
    "print(a,b,c)"
   ]
  },
  {
   "cell_type": "code",
   "execution_count": 39,
   "id": "401b7fc5-35dd-4b17-bbae-47c5f9692e6d",
   "metadata": {},
   "outputs": [
    {
     "name": "stdout",
     "output_type": "stream",
     "text": [
      "10 20 30\n"
     ]
    }
   ],
   "source": [
    "print(a,b,c,sep=\" \")"
   ]
  },
  {
   "cell_type": "code",
   "execution_count": 40,
   "id": "4169e873-3f31-4338-a07b-2d1e0e88d290",
   "metadata": {},
   "outputs": [
    {
     "name": "stdout",
     "output_type": "stream",
     "text": [
      "102030\n"
     ]
    }
   ],
   "source": [
    "print(a,b,c,sep=\"\")"
   ]
  },
  {
   "cell_type": "code",
   "execution_count": 45,
   "id": "85656346-81e8-4267-bc1d-33579f6ea392",
   "metadata": {},
   "outputs": [
    {
     "name": "stdout",
     "output_type": "stream",
     "text": [
      "102030"
     ]
    }
   ],
   "source": [
    "print(a,b,c,sep=\"\", end=\"\")"
   ]
  },
  {
   "cell_type": "code",
   "execution_count": 41,
   "id": "c6aff667-1315-4a47-b0ac-0c5978887451",
   "metadata": {},
   "outputs": [
    {
     "name": "stdout",
     "output_type": "stream",
     "text": [
      "10$20$30\n"
     ]
    }
   ],
   "source": [
    "print(a,b,c,sep=\"$\")"
   ]
  },
  {
   "cell_type": "code",
   "execution_count": 42,
   "id": "acf94293-2e2d-4568-bf16-8363b566929b",
   "metadata": {},
   "outputs": [
    {
     "name": "stdout",
     "output_type": "stream",
     "text": [
      "10@#%20@#%30\n"
     ]
    }
   ],
   "source": [
    "print(a,b,c,sep=\"@#%\")"
   ]
  },
  {
   "cell_type": "code",
   "execution_count": 50,
   "id": "fe5f87f1-7e8e-40f4-81dd-1e78462281db",
   "metadata": {},
   "outputs": [
    {
     "name": "stdout",
     "output_type": "stream",
     "text": [
      "10!20!30\n"
     ]
    }
   ],
   "source": [
    "print(a,b,c,sep=\"!\")"
   ]
  },
  {
   "cell_type": "markdown",
   "id": "c6b46114-ae4f-4512-bc58-e7ccc79d2811",
   "metadata": {},
   "source": [
    "#### Input()"
   ]
  },
  {
   "cell_type": "code",
   "execution_count": 51,
   "id": "1861fd59-35f9-40b5-a1d9-50eb69196179",
   "metadata": {},
   "outputs": [
    {
     "name": "stdin",
     "output_type": "stream",
     "text": [
      " 30\n"
     ]
    },
    {
     "data": {
      "text/plain": [
       "'30'"
      ]
     },
     "execution_count": 51,
     "metadata": {},
     "output_type": "execute_result"
    }
   ],
   "source": [
    "input()"
   ]
  },
  {
   "cell_type": "code",
   "execution_count": 53,
   "id": "dc5c4aff-bda9-4e4b-adf7-1ced4275b1af",
   "metadata": {},
   "outputs": [
    {
     "name": "stdin",
     "output_type": "stream",
     "text": [
      "First Number: 23\n"
     ]
    },
    {
     "data": {
      "text/plain": [
       "'23'"
      ]
     },
     "execution_count": 53,
     "metadata": {},
     "output_type": "execute_result"
    }
   ],
   "source": [
    "input('First Number:')"
   ]
  },
  {
   "cell_type": "code",
   "execution_count": 57,
   "id": "83adaad9-ca44-4ada-a8a1-d14f04193b0b",
   "metadata": {},
   "outputs": [
    {
     "name": "stdin",
     "output_type": "stream",
     "text": [
      "First Number: 64\n"
     ]
    }
   ],
   "source": [
    "rkm = input('First Number:')"
   ]
  },
  {
   "cell_type": "code",
   "execution_count": 58,
   "id": "ea2e5956-4dbb-49bc-a747-633425524d8d",
   "metadata": {},
   "outputs": [
    {
     "data": {
      "text/plain": [
       "str"
      ]
     },
     "execution_count": 58,
     "metadata": {},
     "output_type": "execute_result"
    }
   ],
   "source": [
    "type(rkm)"
   ]
  },
  {
   "cell_type": "code",
   "execution_count": 54,
   "id": "df69cc58-cbe5-4899-a8b8-cc48dfd70bf9",
   "metadata": {},
   "outputs": [
    {
     "name": "stdin",
     "output_type": "stream",
     "text": [
      "put any number: 33\n"
     ]
    }
   ],
   "source": [
    "RK = input('put any number:')"
   ]
  },
  {
   "cell_type": "code",
   "execution_count": 55,
   "id": "ccd86237-af83-4fdf-b33d-8e6be6f8b60e",
   "metadata": {},
   "outputs": [
    {
     "name": "stdout",
     "output_type": "stream",
     "text": [
      "33\n"
     ]
    }
   ],
   "source": [
    "print(RK)"
   ]
  },
  {
   "cell_type": "code",
   "execution_count": 56,
   "id": "2ee3d1e7-572b-49a3-a32e-9139d0dcec90",
   "metadata": {},
   "outputs": [
    {
     "data": {
      "text/plain": [
       "str"
      ]
     },
     "execution_count": 56,
     "metadata": {},
     "output_type": "execute_result"
    }
   ],
   "source": [
    "type(RK)"
   ]
  },
  {
   "cell_type": "code",
   "execution_count": 60,
   "id": "f73a4462-0498-4a9f-9c11-bc4483b879bf",
   "metadata": {},
   "outputs": [
    {
     "name": "stdin",
     "output_type": "stream",
     "text": [
      "put any number: 55\n"
     ]
    }
   ],
   "source": [
    "R = int(input('put any number:'))"
   ]
  },
  {
   "cell_type": "code",
   "execution_count": 61,
   "id": "bb3c31d4-2337-412a-b3ee-b40ff49131ed",
   "metadata": {},
   "outputs": [
    {
     "name": "stdout",
     "output_type": "stream",
     "text": [
      "55\n"
     ]
    }
   ],
   "source": [
    "print(R)"
   ]
  },
  {
   "cell_type": "code",
   "execution_count": 62,
   "id": "bf335d91-624b-4b78-9b53-0d749e5ab725",
   "metadata": {},
   "outputs": [
    {
     "data": {
      "text/plain": [
       "int"
      ]
     },
     "execution_count": 62,
     "metadata": {},
     "output_type": "execute_result"
    }
   ],
   "source": [
    "type(R)"
   ]
  },
  {
   "cell_type": "code",
   "execution_count": 63,
   "id": "458d12f5-8816-458b-9892-7d6191f8bec1",
   "metadata": {},
   "outputs": [
    {
     "name": "stdin",
     "output_type": "stream",
     "text": [
      "put any number: 64\n"
     ]
    }
   ],
   "source": [
    "R = float(input('put any number:'))"
   ]
  },
  {
   "cell_type": "code",
   "execution_count": 64,
   "id": "c9d8a081-b4ac-49cb-9790-1f0147150ccf",
   "metadata": {},
   "outputs": [
    {
     "name": "stdout",
     "output_type": "stream",
     "text": [
      "64.0\n"
     ]
    }
   ],
   "source": [
    "print(R)"
   ]
  },
  {
   "cell_type": "code",
   "execution_count": 65,
   "id": "d8f9f9f9-d927-4c8c-b5d6-796d88c9ff2f",
   "metadata": {},
   "outputs": [
    {
     "data": {
      "text/plain": [
       "float"
      ]
     },
     "execution_count": 65,
     "metadata": {},
     "output_type": "execute_result"
    }
   ],
   "source": [
    "type(R)"
   ]
  },
  {
   "cell_type": "markdown",
   "id": "0dda8c01-126c-47bb-ab08-785f46be4bce",
   "metadata": {},
   "source": [
    "#### Syntax and Runtime Error"
   ]
  },
  {
   "cell_type": "code",
   "execution_count": 66,
   "id": "0cbe3fd3-cf1b-4ec8-831c-8aa2f7e80292",
   "metadata": {},
   "outputs": [
    {
     "ename": "SyntaxError",
     "evalue": "invalid syntax (3757477467.py, line 1)",
     "output_type": "error",
     "traceback": [
      "\u001b[0;36m  Cell \u001b[0;32mIn [66], line 1\u001b[0;36m\u001b[0m\n\u001b[0;31m    a+\u001b[0m\n\u001b[0m      ^\u001b[0m\n\u001b[0;31mSyntaxError\u001b[0m\u001b[0;31m:\u001b[0m invalid syntax\n"
     ]
    }
   ],
   "source": [
    "a+"
   ]
  },
  {
   "cell_type": "code",
   "execution_count": 67,
   "id": "c405ffc5-1604-4553-b973-74b1956118f8",
   "metadata": {},
   "outputs": [
    {
     "ename": "SyntaxError",
     "evalue": "incomplete input (4061749129.py, line 1)",
     "output_type": "error",
     "traceback": [
      "\u001b[0;36m  Cell \u001b[0;32mIn [67], line 1\u001b[0;36m\u001b[0m\n\u001b[0;31m    print(a\u001b[0m\n\u001b[0m           ^\u001b[0m\n\u001b[0;31mSyntaxError\u001b[0m\u001b[0;31m:\u001b[0m incomplete input\n"
     ]
    }
   ],
   "source": [
    "print(a"
   ]
  },
  {
   "cell_type": "code",
   "execution_count": 69,
   "id": "bba14a91-1a04-4f10-8dd8-7898e2c15fea",
   "metadata": {},
   "outputs": [
    {
     "ename": "SyntaxError",
     "evalue": "incomplete input (594816383.py, line 1)",
     "output_type": "error",
     "traceback": [
      "\u001b[0;36m  Cell \u001b[0;32mIn [69], line 1\u001b[0;36m\u001b[0m\n\u001b[0;31m    output(()\u001b[0m\n\u001b[0m             ^\u001b[0m\n\u001b[0;31mSyntaxError\u001b[0m\u001b[0;31m:\u001b[0m incomplete input\n"
     ]
    }
   ],
   "source": [
    "output(()"
   ]
  },
  {
   "cell_type": "markdown",
   "id": "0876fa9a-da37-4b72-bced-e96bf56fbd8b",
   "metadata": {},
   "source": [
    "#### Process got stopped at the time of compilation - Syntax Error"
   ]
  },
  {
   "cell_type": "code",
   "execution_count": 70,
   "id": "a5400e20-a82d-4970-8d44-a50db0270501",
   "metadata": {},
   "outputs": [
    {
     "ename": "ZeroDivisionError",
     "evalue": "division by zero",
     "output_type": "error",
     "traceback": [
      "\u001b[0;31m---------------------------------------------------------------------------\u001b[0m",
      "\u001b[0;31mZeroDivisionError\u001b[0m                         Traceback (most recent call last)",
      "Cell \u001b[0;32mIn [70], line 3\u001b[0m\n\u001b[1;32m      1\u001b[0m a \u001b[38;5;241m=\u001b[39m \u001b[38;5;241m10\u001b[39m\n\u001b[1;32m      2\u001b[0m b \u001b[38;5;241m=\u001b[39m \u001b[38;5;241m0\u001b[39m\n\u001b[0;32m----> 3\u001b[0m c \u001b[38;5;241m=\u001b[39m \u001b[43ma\u001b[49m\u001b[38;5;241;43m/\u001b[39;49m\u001b[43mb\u001b[49m\n\u001b[1;32m      4\u001b[0m \u001b[38;5;28mprint\u001b[39m(c)\n",
      "\u001b[0;31mZeroDivisionError\u001b[0m: division by zero"
     ]
    }
   ],
   "source": [
    "## Code got processed in compiler butstopped in interpretor section\n",
    "a = 10\n",
    "b = 0\n",
    "c = a/b\n",
    "print(c)"
   ]
  },
  {
   "cell_type": "code",
   "execution_count": 71,
   "id": "cfb01212-b92b-4672-927c-dca4693e1a0c",
   "metadata": {},
   "outputs": [
    {
     "name": "stdout",
     "output_type": "stream",
     "text": [
      "0.0\n"
     ]
    }
   ],
   "source": [
    "a = 0\n",
    "b = 10\n",
    "c = a/b\n",
    "print(c)"
   ]
  },
  {
   "cell_type": "code",
   "execution_count": 72,
   "id": "975ab470-165b-4245-9785-6a7e906b95d0",
   "metadata": {},
   "outputs": [
    {
     "name": "stdout",
     "output_type": "stream",
     "text": [
      "0.5\n"
     ]
    }
   ],
   "source": [
    "a = 10\n",
    "b = 20\n",
    "c = a/b\n",
    "print(c)"
   ]
  },
  {
   "cell_type": "markdown",
   "id": "3deb9009-b87e-4736-83d3-6a3dfff56552",
   "metadata": {},
   "source": [
    "#### Identifiers --> Identifiers cannot be numbers except characters(A to Z) and special characters(_)"
   ]
  },
  {
   "cell_type": "code",
   "execution_count": 73,
   "id": "b0593131-c327-465b-ae16-53d00e39483d",
   "metadata": {},
   "outputs": [],
   "source": [
    "a = 2350"
   ]
  },
  {
   "cell_type": "code",
   "execution_count": 74,
   "id": "7eb4400c-6ef3-4ec9-8a27-be2aa0c66edc",
   "metadata": {},
   "outputs": [],
   "source": [
    "b = 64505236"
   ]
  },
  {
   "cell_type": "code",
   "execution_count": 75,
   "id": "a8aafaaa-a15f-4289-bdfb-83e5ff35f60a",
   "metadata": {},
   "outputs": [
    {
     "ename": "SyntaxError",
     "evalue": "invalid decimal literal (396576619.py, line 1)",
     "output_type": "error",
     "traceback": [
      "\u001b[0;36m  Cell \u001b[0;32mIn [75], line 1\u001b[0;36m\u001b[0m\n\u001b[0;31m    64 = 4526bfcv\u001b[0m\n\u001b[0m            ^\u001b[0m\n\u001b[0;31mSyntaxError\u001b[0m\u001b[0;31m:\u001b[0m invalid decimal literal\n"
     ]
    }
   ],
   "source": [
    "64 = 4526bfcv"
   ]
  },
  {
   "cell_type": "code",
   "execution_count": 81,
   "id": "959be2a0-fb8a-4fa4-9e26-9c8ec47a2d72",
   "metadata": {},
   "outputs": [
    {
     "ename": "SyntaxError",
     "evalue": "cannot assign to literal here. Maybe you meant '==' instead of '='? (975400461.py, line 1)",
     "output_type": "error",
     "traceback": [
      "\u001b[0;36m  Cell \u001b[0;32mIn [81], line 1\u001b[0;36m\u001b[0m\n\u001b[0;31m    64 = 4526\u001b[0m\n\u001b[0m    ^\u001b[0m\n\u001b[0;31mSyntaxError\u001b[0m\u001b[0;31m:\u001b[0m cannot assign to literal here. Maybe you meant '==' instead of '='?\n"
     ]
    }
   ],
   "source": [
    "64 = 4526"
   ]
  },
  {
   "cell_type": "code",
   "execution_count": 77,
   "id": "ba655a36-bfdd-4c0d-98c3-f887833df9bd",
   "metadata": {},
   "outputs": [],
   "source": [
    "_BH45 = 45896"
   ]
  },
  {
   "cell_type": "code",
   "execution_count": 78,
   "id": "f680e4ea-d406-4991-9b89-4f9f81f0348a",
   "metadata": {},
   "outputs": [],
   "source": [
    "_45BH = 45896"
   ]
  },
  {
   "cell_type": "code",
   "execution_count": 79,
   "id": "a40fbb38-498e-4750-9608-5b702e5d5da0",
   "metadata": {},
   "outputs": [
    {
     "ename": "SyntaxError",
     "evalue": "invalid decimal literal (4279920952.py, line 1)",
     "output_type": "error",
     "traceback": [
      "\u001b[0;36m  Cell \u001b[0;32mIn [79], line 1\u001b[0;36m\u001b[0m\n\u001b[0;31m    45BH_ = 45896\u001b[0m\n\u001b[0m     ^\u001b[0m\n\u001b[0;31mSyntaxError\u001b[0m\u001b[0;31m:\u001b[0m invalid decimal literal\n"
     ]
    }
   ],
   "source": [
    "45BH_ = 45896"
   ]
  },
  {
   "cell_type": "code",
   "execution_count": 80,
   "id": "c8bedf7a-da45-47c8-8418-b6a46b7c6d15",
   "metadata": {},
   "outputs": [],
   "source": [
    "BH45_ = 45896"
   ]
  },
  {
   "cell_type": "code",
   "execution_count": 82,
   "id": "625039c8-e2a4-4019-b9aa-6c57d3ab3701",
   "metadata": {},
   "outputs": [
    {
     "ename": "SyntaxError",
     "evalue": "invalid decimal literal (3252216260.py, line 1)",
     "output_type": "error",
     "traceback": [
      "\u001b[0;36m  Cell \u001b[0;32mIn [82], line 1\u001b[0;36m\u001b[0m\n\u001b[0;31m    BH45_ = 45896abcde\u001b[0m\n\u001b[0m                ^\u001b[0m\n\u001b[0;31mSyntaxError\u001b[0m\u001b[0;31m:\u001b[0m invalid decimal literal\n"
     ]
    }
   ],
   "source": [
    "BH45_ = 45896abcde"
   ]
  },
  {
   "cell_type": "code",
   "execution_count": 84,
   "id": "7c5a9754-d5b0-4a5c-84bc-a3a31b772284",
   "metadata": {},
   "outputs": [],
   "source": [
    "def _rick14():\n",
    "    print(\"Rishi\")"
   ]
  },
  {
   "cell_type": "code",
   "execution_count": 85,
   "id": "2f900ce6-e392-498a-8e10-297b83838e9d",
   "metadata": {},
   "outputs": [
    {
     "name": "stdout",
     "output_type": "stream",
     "text": [
      "Rishi\n"
     ]
    }
   ],
   "source": [
    "_rick14()"
   ]
  },
  {
   "cell_type": "code",
   "execution_count": 86,
   "id": "0fa17159-5e01-4f05-adc2-ac09b0df9c4d",
   "metadata": {},
   "outputs": [],
   "source": [
    "def _23rkm():\n",
    "    print('Mukherjee')"
   ]
  },
  {
   "cell_type": "code",
   "execution_count": 87,
   "id": "ca6e62f3-79d6-4ed6-8175-b7366257eac0",
   "metadata": {},
   "outputs": [
    {
     "name": "stdout",
     "output_type": "stream",
     "text": [
      "Mukherjee\n"
     ]
    }
   ],
   "source": [
    "_23rkm()"
   ]
  },
  {
   "cell_type": "code",
   "execution_count": 88,
   "id": "fedd483e-d660-4222-bb76-507931b0a68f",
   "metadata": {},
   "outputs": [
    {
     "name": "stdout",
     "output_type": "stream",
     "text": [
      "\n",
      "Welcome to Python 3.10's help utility!\n",
      "\n",
      "If this is your first time using Python, you should definitely check out\n",
      "the tutorial on the internet at https://docs.python.org/3.10/tutorial/.\n",
      "\n",
      "Enter the name of any module, keyword, or topic to get help on writing\n",
      "Python programs and using Python modules.  To quit this help utility and\n",
      "return to the interpreter, just type \"quit\".\n",
      "\n",
      "To get a list of available modules, keywords, symbols, or topics, type\n",
      "\"modules\", \"keywords\", \"symbols\", or \"topics\".  Each module also comes\n",
      "with a one-line summary of what it does; to list the modules whose name\n",
      "or summary contain a given string such as \"spam\", type \"modules spam\".\n",
      "\n"
     ]
    },
    {
     "name": "stdin",
     "output_type": "stream",
     "text": [
      "help>  keywords\n"
     ]
    },
    {
     "name": "stdout",
     "output_type": "stream",
     "text": [
      "\n",
      "Here is a list of the Python keywords.  Enter any keyword to get more help.\n",
      "\n",
      "False               class               from                or\n",
      "None                continue            global              pass\n",
      "True                def                 if                  raise\n",
      "and                 del                 import              return\n",
      "as                  elif                in                  try\n",
      "assert              else                is                  while\n",
      "async               except              lambda              with\n",
      "await               finally             nonlocal            yield\n",
      "break               for                 not                 \n",
      "\n"
     ]
    },
    {
     "name": "stdin",
     "output_type": "stream",
     "text": [
      "help>  quit\n"
     ]
    },
    {
     "name": "stdout",
     "output_type": "stream",
     "text": [
      "\n",
      "You are now leaving help and returning to the Python interpreter.\n",
      "If you want to ask for help on a particular object directly from the\n",
      "interpreter, you can type \"help(object)\".  Executing \"help('string')\"\n",
      "has the same effect as typing a particular string at the help> prompt.\n"
     ]
    }
   ],
   "source": [
    "help()"
   ]
  },
  {
   "cell_type": "code",
   "execution_count": 89,
   "id": "00257d7c-273b-4339-b393-9b2ce306a539",
   "metadata": {},
   "outputs": [
    {
     "name": "stdout",
     "output_type": "stream",
     "text": [
      "3.14\n"
     ]
    }
   ],
   "source": [
    "pi = 3.14\n",
    "print(pi)"
   ]
  },
  {
   "cell_type": "code",
   "execution_count": null,
   "id": "0cedabca-26ec-4f78-b58e-c8f7d908566f",
   "metadata": {},
   "outputs": [],
   "source": []
  }
 ],
 "metadata": {
  "kernelspec": {
   "display_name": "Python 3 (ipykernel)",
   "language": "python",
   "name": "python3"
  },
  "language_info": {
   "codemirror_mode": {
    "name": "ipython",
    "version": 3
   },
   "file_extension": ".py",
   "mimetype": "text/x-python",
   "name": "python",
   "nbconvert_exporter": "python",
   "pygments_lexer": "ipython3",
   "version": "3.10.6"
  }
 },
 "nbformat": 4,
 "nbformat_minor": 5
}
